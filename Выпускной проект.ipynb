{
 "cells": [
  {
   "cell_type": "markdown",
   "metadata": {},
   "source": [
    "<div style=\"background: #cceeaa; padding: 5px; border: 1px solid green; border-radius: 5px;\">\n",
    "<font color='green'> \n",
    "    <b><u>КОММЕНТАРИЙ РЕВЬЮЕРА</u></b>\n",
    "<font color='green'><br>\n",
    "<br />\n",
    "Ксения, доброго дня! рад приветствовать тебя в финале) <br />\n",
    "Вот и он подобрался, поздравляю. Остался последний рывок в этом марафоне)<br>\n",
    "<br />\n",
    "Меня зовут Николай. <br />И на этом этапе Вашего движения к новой профессии от меня будут комментарии по написанному коду. <br />Чтобы меньше \"мусорить эфир\" и чтобы максимально наглядно отделяться от основного кода, есть предложение условиться в некоторых обозначениях:<br /> <br />\n",
    "<u><b>ТАКОЙ ШРИФТ</b></u> - всегда начало комментария <br />\n",
    "<font color='green'>такой шрифт</font> - комментарии о том, что всё ОК <br/>\n",
    "<font color='purple'>такой шрифт</font> - комментарии о том, что всё ОК по результату,<br> однако что есть ещё что-то или в коде или есть способы сделать более короткий или быстрый код <br/>\n",
    "<font color='red'>такой шрифт</font> - комментарии о том, что есть критичный момент, влияющий на бизнес-результат проекта.<br/>\n",
    "</font><br /><br />\n",
    "<font color='green'>Как и всегда в спринтах - ставлю своей целью максимально помочь. Поэтому, все мои комментарии - это только способ передать свой опыт для помощи в твоих достижениях."
   ]
  },
  {
   "cell_type": "markdown",
   "metadata": {},
   "source": [
    "# Описание проекта"
   ]
  },
  {
   "cell_type": "markdown",
   "metadata": {},
   "source": [
    "Чтобы оптимизировать производственные расходы, металлургический комбинат ООО «Так закаляем сталь» решил уменьшить потребление электроэнергии на этапе обработки стали. Вам предстоит построить модель, которая предскажет температуру стали.\n",
    "\n",
    "Мы имеем данные об электродах, посредствам которых нагревается сплав, о добавках в виде сыпучих материалов, проволоки и газа и о результатах измерения темперутары на разных этапах технологического процесса. При этом известно, что во время самого процесса технологам доступна только температура после первого замера, следовательно, для обучения мы можем использовать только первый замер. Целевым же признаком является результат последнего замера."
   ]
  },
  {
   "cell_type": "markdown",
   "metadata": {},
   "source": [
    "# Оглавление"
   ]
  },
  {
   "cell_type": "markdown",
   "metadata": {},
   "source": [
    "1. [Анализ данных](#step1)  \n",
    "2. [Подготовка данных](#step2)  \n",
    "3. [Обучение моделей](#step3) \n",
    "4. [Оценка моделей](#step4) "
   ]
  },
  {
   "cell_type": "markdown",
   "metadata": {},
   "source": [
    "## Анализ данных <a id=\"step1\"></a>  "
   ]
  },
  {
   "cell_type": "markdown",
   "metadata": {},
   "source": [
    "Получим данные и ознакомимся с ними более подробно"
   ]
  },
  {
   "cell_type": "code",
   "execution_count": 1,
   "metadata": {},
   "outputs": [],
   "source": [
    "import pandas as pd\n",
    "import matplotlib.pyplot as plt\n",
    "import numpy as np\n",
    "from sklearn.model_selection import train_test_split\n",
    "from sklearn.preprocessing import StandardScaler\n",
    "from sklearn.linear_model import LinearRegression\n",
    "from sklearn.ensemble import RandomForestRegressor\n",
    "from sklearn.tree import DecisionTreeRegressor\n",
    "from catboost import CatBoostRegressor\n",
    "import lightgbm as lgb\n",
    "from sklearn.dummy import DummyRegressor\n",
    "from sklearn.metrics import mean_absolute_error\n",
    "import seaborn as sns\n",
    "import matplotlib.pyplot as plt\n",
    "\n",
    "import warnings\n",
    "warnings.filterwarnings(\"ignore\")"
   ]
  },
  {
   "cell_type": "code",
   "execution_count": 2,
   "metadata": {},
   "outputs": [],
   "source": [
    "data_arc = pd.read_csv('/datasets/final_steel/data_arc.csv')\n",
    "data_bulk = pd.read_csv('/datasets/final_steel/data_bulk.csv')\n",
    "data_bulk_time = pd.read_csv('/datasets/final_steel/data_bulk_time.csv')\n",
    "data_gas = pd.read_csv('/datasets/final_steel/data_gas.csv')\n",
    "data_temp = pd.read_csv('/datasets/final_steel/data_temp.csv')\n",
    "data_wire = pd.read_csv('/datasets/final_steel/data_wire.csv')\n",
    "data_wire_time = pd.read_csv('/datasets/final_steel/data_wire_time.csv')\n"
   ]
  },
  {
   "cell_type": "markdown",
   "metadata": {},
   "source": [
    "<div style=\"background: #cceeaa; padding: 5px; border: 1px solid green; border-radius: 5px;\">\n",
    "<font color='green'> \n",
    "    <b><u>КОММЕНТАРИЙ РЕВЬЮЕРА</u></b>\n",
    "<font color='green'><br>ОК, данные на базе)"
   ]
  },
  {
   "cell_type": "markdown",
   "metadata": {},
   "source": [
    "### Замеры температуры"
   ]
  },
  {
   "cell_type": "markdown",
   "metadata": {},
   "source": [
    "Так как мы можем использовать только первый и последний замер температуры, выделим только их из data_temp."
   ]
  },
  {
   "cell_type": "code",
   "execution_count": 3,
   "metadata": {},
   "outputs": [],
   "source": [
    "start_temp = data_temp.groupby('key')['Время замера'].min()\n",
    "start_temp_data = data_temp.merge(start_temp, on='Время замера')\n",
    "last_temp = data_temp.groupby('key')['Время замера'].max()\n",
    "last_temp_data = data_temp.merge(last_temp, on='Время замера')\n"
   ]
  },
  {
   "cell_type": "code",
   "execution_count": 4,
   "metadata": {},
   "outputs": [],
   "source": [
    "all_temp_data=start_temp_data.merge(last_temp_data, on='key').rename(columns = {'Время замера_x': 'start_meas_time', \n",
    "                                                                                'Время замера_y' : 'last_meas_time', \n",
    "                                                                                'Температура_x' : 'start_temp',\n",
    "                                                                               'Температура_y': 'last_temp'})\n"
   ]
  },
  {
   "cell_type": "code",
   "execution_count": 5,
   "metadata": {},
   "outputs": [
    {
     "name": "stdout",
     "output_type": "stream",
     "text": [
      "<class 'pandas.core.frame.DataFrame'>\n",
      "Int64Index: 3216 entries, 0 to 3215\n",
      "Data columns (total 5 columns):\n",
      "key                3216 non-null int64\n",
      "start_meas_time    3216 non-null object\n",
      "start_temp         3216 non-null float64\n",
      "last_meas_time     3216 non-null object\n",
      "last_temp          2477 non-null float64\n",
      "dtypes: float64(2), int64(1), object(2)\n",
      "memory usage: 150.8+ KB\n"
     ]
    }
   ],
   "source": [
    "all_temp_data.info()"
   ]
  },
  {
   "cell_type": "markdown",
   "metadata": {},
   "source": [
    "<div style=\"background: #cceeaa; padding: 5px; border: 1px solid green; border-radius: 5px;\">\n",
    "    <font color='green'> <b><u>КОММЕНТАРИЙ РЕВЬЮЕРА</u></b>\n",
    "</font>\n",
    "<font color='green'><br>ОК"
   ]
  },
  {
   "cell_type": "markdown",
   "metadata": {},
   "source": [
    "Посмотрим на значения на гистограмме. Распределение похоже на нормальное."
   ]
  },
  {
   "cell_type": "code",
   "execution_count": 6,
   "metadata": {},
   "outputs": [
    {
     "data": {
      "image/png": "[encoded data removed]",
      "text/plain": [
       "<Figure size 432x288 with 1 Axes>"
      ]
     },
     "metadata": {
      "needs_background": "light"
     },
     "output_type": "display_data"
    }
   ],
   "source": [
    "all_temp_data['start_temp'].plot.hist(bins=30, range=(1000, 2000), color= 'aquamarine', alpha=0.7)\n",
    "all_temp_data['last_temp'].plot.hist(bins=30, range=(1000, 2000), color = 'coral', alpha=0.7)\n",
    "plt.legend()\n",
    "plt.show()"
   ]
  },
  {
   "cell_type": "markdown",
   "metadata": {},
   "source": [
    "Посмотрим на выбросы в данных"
   ]
  },
  {
   "cell_type": "markdown",
   "metadata": {},
   "source": [
    "**Первый замер**"
   ]
  },
  {
   "cell_type": "code",
   "execution_count": 7,
   "metadata": {},
   "outputs": [
    {
     "data": {
      "image/png": "[encoded data removed]",
      "text/plain": [
       "<Figure size 432x288 with 1 Axes>"
      ]
     },
     "metadata": {
      "needs_background": "light"
     },
     "output_type": "display_data"
    }
   ],
   "source": [
    "plt.ylim(1000, 1800)\n",
    "all_temp_data.boxplot('start_temp')\n",
    "plt.show()"
   ]
  },
  {
   "cell_type": "markdown",
   "metadata": {},
   "source": [
    "Значения меньше 1520 и больше 1650 являются выбросами"
   ]
  },
  {
   "cell_type": "markdown",
   "metadata": {},
   "source": [
    "<div style=\"background: #cceeaa; padding: 5px; border: 1px solid green; border-radius: 5px;\">\n",
    "    <font color='green'> <b><u>КОММЕНТАРИЙ РЕВЬЮЕРА</u></b>\n",
    "</font>\n",
    "<font color='green'><br>\n",
    "С выбросами тут действительно важный момент. Ведь выброс выбросу рознь) Бывает, что выброс - то реальная бизнес-практика. И если удалить их, то мы получим модель, так скажем, работующую не во всех диапазонах входящих в неё факторов. Т.е. по метрикам модель будет хорошая. А вот по бизнесу - не совсем применимая.<br>А бывают выбросы - точно выбросы - ошибки учёта данных, например.<br>\n",
    "    \n",
    "В самой теории выбросов принято считать, что выбросы в интервале от q_3 + 1.5*irq до q_3 + з*irq - на усмотрение бизнеса. А вот всё, что больше q_3 + 3*irq - уже точно надо работать - на удаление!!!<br>\n",
    "q_3 - верхняя квартиль<br>\n",
    "irq - интерквартильный размах\n",
    "\n",
    "В таких проектах, также лучше использовать такую философию анализа выбросов:<br>\n",
    "Ящик с усами - даёт пищу для размышлений (не более того, не воспринимаем его как сигнал к действию).<br>\n",
    "А потом смотрим то явление, что изучаем. Данные значения - могут быть в реальности или нет?<br>\n",
    "Вот в данном случае с температурой плавления: по справочнику она у металла = окло 1400+-, т.е. 1200 - действиетльно кажется очень странным значением. "
   ]
  },
  {
   "cell_type": "code",
   "execution_count": null,
   "metadata": {},
   "outputs": [],
   "source": []
  },
  {
   "cell_type": "markdown",
   "metadata": {},
   "source": [
    "**Последний замер**"
   ]
  },
  {
   "cell_type": "code",
   "execution_count": 8,
   "metadata": {},
   "outputs": [
    {
     "data": {
      "image/png": "[encoded data removed]",
      "text/plain": [
       "<Figure size 432x288 with 1 Axes>"
      ]
     },
     "metadata": {
      "needs_background": "light"
     },
     "output_type": "display_data"
    }
   ],
   "source": [
    "plt.ylim(1500, 1800)\n",
    "all_temp_data.boxplot('last_temp')\n",
    "plt.show()"
   ]
  },
  {
   "cell_type": "markdown",
   "metadata": {},
   "source": [
    "Значения меньше 1570 и больше 1620 являются выбросами."
   ]
  },
  {
   "cell_type": "markdown",
   "metadata": {},
   "source": [
    "### Газ"
   ]
  },
  {
   "cell_type": "markdown",
   "metadata": {},
   "source": [
    "Посмотрим на данные о поданном в сплав объеме газа. На гистограмме видно несколько выбросов на значении около 50"
   ]
  },
  {
   "cell_type": "code",
   "execution_count": 9,
   "metadata": {},
   "outputs": [
    {
     "data": {
      "image/png": "[encoded data removed]",
      "text/plain": [
       "<Figure size 432x288 with 1 Axes>"
      ]
     },
     "metadata": {
      "needs_background": "light"
     },
     "output_type": "display_data"
    }
   ],
   "source": [
    "data_gas['Газ 1'].plot.hist(bins=30, range=(0, 80))\n",
    "plt.show()"
   ]
  },
  {
   "cell_type": "code",
   "execution_count": 10,
   "metadata": {},
   "outputs": [
    {
     "data": {
      "image/png": "[encoded data removed]",
      "text/plain": [
       "<Figure size 432x288 with 1 Axes>"
      ]
     },
     "metadata": {
      "needs_background": "light"
     },
     "output_type": "display_data"
    }
   ],
   "source": [
    "plt.ylim(0, 100)\n",
    "data_gas.boxplot('Газ 1')\n",
    "plt.show()"
   ]
  },
  {
   "cell_type": "markdown",
   "metadata": {},
   "source": [
    "Значения больше 25 можно считать выбросами. Но глядя на гистограмму, я бы исключила только значения больше 35 или 40."
   ]
  },
  {
   "cell_type": "markdown",
   "metadata": {},
   "source": [
    "<div style=\"background: #cceeaa; padding: 5px; border: 1px solid green; border-radius: 5px;\">\n",
    "    <font color='green'> <b><u>КОММЕНТАРИЙ РЕВЬЮЕРА</u></b>\n",
    "</font>\n",
    "<font color='green'><br>как и писал, выбросы всякие бывают)"
   ]
  },
  {
   "cell_type": "markdown",
   "metadata": {},
   "source": [
    "### Данные об электродах"
   ]
  },
  {
   "cell_type": "markdown",
   "metadata": {},
   "source": [
    "Рассмотрим данные об активной и реактивной мощности."
   ]
  },
  {
   "cell_type": "code",
   "execution_count": 11,
   "metadata": {},
   "outputs": [
    {
     "data": {
      "image/png": "[encoded data removed]",
      "text/plain": [
       "<Figure size 432x288 with 1 Axes>"
      ]
     },
     "metadata": {
      "needs_background": "light"
     },
     "output_type": "display_data"
    }
   ],
   "source": [
    "data_arc['Активная мощность'].plot.hist(bins=30, range=(0, 10), color= 'aquamarine')\n",
    "data_arc['Реактивная мощность'].plot.hist(bins=30, range=(0, 10), color= 'coral', alpha=0.7)\n",
    "plt.show()"
   ]
  },
  {
   "cell_type": "markdown",
   "metadata": {},
   "source": [
    "**Активная мощность**"
   ]
  },
  {
   "cell_type": "code",
   "execution_count": 12,
   "metadata": {},
   "outputs": [
    {
     "data": {
      "image/png": "[encoded data removed]",
      "text/plain": [
       "<Figure size 432x288 with 1 Axes>"
      ]
     },
     "metadata": {
      "needs_background": "light"
     },
     "output_type": "display_data"
    }
   ],
   "source": [
    "plt.ylim(0, 4)\n",
    "data_arc.boxplot('Активная мощность')\n",
    "plt.show()"
   ]
  },
  {
   "cell_type": "markdown",
   "metadata": {},
   "source": [
    "**Реактивная мощность**"
   ]
  },
  {
   "cell_type": "code",
   "execution_count": 13,
   "metadata": {},
   "outputs": [
    {
     "data": {
      "image/png": "[encoded data removed]",
      "text/plain": [
       "<Figure size 432x288 with 1 Axes>"
      ]
     },
     "metadata": {
      "needs_background": "light"
     },
     "output_type": "display_data"
    }
   ],
   "source": [
    "plt.ylim(0, 4)\n",
    "data_arc.boxplot('Реактивная мощность')\n",
    "plt.show()"
   ]
  },
  {
   "cell_type": "markdown",
   "metadata": {},
   "source": [
    "По диаграммам размаха можно сказать, что для активной мощности выбросами являются значения выше 1.5, а для реактивной значения выше 1.2. Но если смотреть на гистограмму, видим относительно правный спад, к тому же разброс значений в обоих случаях всего до 3-4, так что я бы пренебрегла этими выбросами, они кажутся не ошибками в данных, а просто разнообразными случаями."
   ]
  },
  {
   "cell_type": "markdown",
   "metadata": {},
   "source": [
    "<div style=\"background: #cceeaa; padding: 5px; border: 1px solid green; border-radius: 5px;\">\n",
    "    <font color='green'> <b><u>КОММЕНТАРИЙ РЕВЬЮЕРА</u></b>\n",
    "</font>\n",
    "<font color='green'><br>Ок, понятная работа по разделу)"
   ]
  },
  {
   "cell_type": "markdown",
   "metadata": {},
   "source": [
    "## Подготовка данных <a id=\"step2\"></a>  "
   ]
  },
  {
   "cell_type": "markdown",
   "metadata": {},
   "source": [
    "Для удобства возмем в качестве features не каждую можность отдельного нагрева а сумму всех мощностей для партии и количество нагревов.\n",
    "Остальные данные соединим с нашими температурами, чтобы получить общий датафрейм. Также подсчитаем количество времени которое прошло с первого до последнего замера.\n",
    "\n",
    "В данных о примесях заменим пустые значения на нули, ведь они это и означают. Нет данных - нет примесей.\n",
    "\n",
    "В общем датафрейме удалим ненужные столбцы, которые не будем использовать и переименуем русские названия на английские. Просто для единообразия."
   ]
  },
  {
   "cell_type": "code",
   "execution_count": 14,
   "metadata": {},
   "outputs": [],
   "source": [
    "data_arc_count = data_arc.groupby(by='key').count()\n",
    "data_arc_sum = data_arc.groupby(by='key').sum()"
   ]
  },
  {
   "cell_type": "code",
   "execution_count": 15,
   "metadata": {},
   "outputs": [],
   "source": [
    "data_wire = data_wire.fillna(0)\n",
    "data_bulk = data_bulk.fillna(0)"
   ]
  },
  {
   "cell_type": "markdown",
   "metadata": {},
   "source": [
    "<div style=\"background: #cceeaa; padding: 5px; border: 1px solid green; border-radius: 5px;\">\n",
    "    <font color='green'> <b><u>КОММЕНТАРИЙ РЕВЬЮЕРА</u></b>\n",
    "</font>\n",
    "<font color='green'><br>ОК, принято)"
   ]
  },
  {
   "cell_type": "code",
   "execution_count": 16,
   "metadata": {},
   "outputs": [
    {
     "name": "stdout",
     "output_type": "stream",
     "text": [
      "<class 'pandas.core.frame.DataFrame'>\n",
      "Int64Index: 3022 entries, 0 to 3021\n",
      "Data columns (total 32 columns):\n",
      "key                   3022 non-null int64\n",
      "start_temp            3022 non-null float64\n",
      "last_temp             2329 non-null float64\n",
      "active_power_sum      3022 non-null float64\n",
      "reactive_power_sum    3022 non-null float64\n",
      "number_heatings       3022 non-null int64\n",
      "gas                   3022 non-null float64\n",
      "Bulk 1                3022 non-null float64\n",
      "Bulk 2                3022 non-null float64\n",
      "Bulk 3                3022 non-null float64\n",
      "Bulk 4                3022 non-null float64\n",
      "Bulk 5                3022 non-null float64\n",
      "Bulk 6                3022 non-null float64\n",
      "Bulk 7                3022 non-null float64\n",
      "Bulk 8                3022 non-null float64\n",
      "Bulk 9                3022 non-null float64\n",
      "Bulk 10               3022 non-null float64\n",
      "Bulk 11               3022 non-null float64\n",
      "Bulk 12               3022 non-null float64\n",
      "Bulk 13               3022 non-null float64\n",
      "Bulk 14               3022 non-null float64\n",
      "Bulk 15               3022 non-null float64\n",
      "Wire 1                3022 non-null float64\n",
      "Wire 2                3022 non-null float64\n",
      "Wire 3                3022 non-null float64\n",
      "Wire 4                3022 non-null float64\n",
      "Wire 5                3022 non-null float64\n",
      "Wire 6                3022 non-null float64\n",
      "Wire 7                3022 non-null float64\n",
      "Wire 8                3022 non-null float64\n",
      "Wire 9                3022 non-null float64\n",
      "time                  3022 non-null int64\n",
      "dtypes: float64(29), int64(3)\n",
      "memory usage: 779.1 KB\n"
     ]
    }
   ],
   "source": [
    "all_data= all_temp_data.merge(data_arc_sum, on='key')\n",
    "all_data = all_data.merge(data_arc_count['Начало нагрева дугой'], on='key')\n",
    "all_data = all_data.merge(data_gas, on='key')\n",
    "all_data = all_data.merge(data_bulk, on='key')\n",
    "all_data = all_data.merge(data_wire, on='key')\n",
    "all_data['start_meas_time'] = pd.to_datetime(all_data['start_meas_time'], format='%Y-%m-%dT%H:%M:%S')\n",
    "all_data['last_meas_time'] = pd.to_datetime(all_data['last_meas_time'], format='%Y-%m-%dT%H:%M:%S')\n",
    "all_data['time'] = (all_data['last_meas_time'] - all_data['start_meas_time']) // pd.Timedelta('1s')\n",
    "all_data = all_data.drop(['start_meas_time', 'last_meas_time'], axis=1).rename(columns = {'Активная мощность': 'active_power_sum', \n",
    "                                                                                'Реактивная мощность' : 'reactive_power_sum', \n",
    "                                                                                'Начало нагрева дугой' : 'number_heatings',\n",
    "                                                                                         'Газ 1': 'gas'})\n",
    "all_data.info()"
   ]
  },
  {
   "cell_type": "markdown",
   "metadata": {},
   "source": [
    "Удалим те строки, у которых наш целевой признак (результат последнего замера температуры) оказался пустой."
   ]
  },
  {
   "cell_type": "code",
   "execution_count": 17,
   "metadata": {
    "scrolled": true
   },
   "outputs": [
    {
     "data": {
      "text/html": [
       "<div>\n",
       "<style scoped>\n",
       "    .dataframe tbody tr th:only-of-type {\n",
       "        vertical-align: middle;\n",
       "    }\n",
       "\n",
       "    .dataframe tbody tr th {\n",
       "        vertical-align: top;\n",
       "    }\n",
       "\n",
       "    .dataframe thead th {\n",
       "        text-align: right;\n",
       "    }\n",
       "</style>\n",
       "<table border=\"1\" class=\"dataframe\">\n",
       "  <thead>\n",
       "    <tr style=\"text-align: right;\">\n",
       "      <th></th>\n",
       "      <th>key</th>\n",
       "      <th>start_temp</th>\n",
       "      <th>last_temp</th>\n",
       "      <th>active_power_sum</th>\n",
       "      <th>reactive_power_sum</th>\n",
       "      <th>number_heatings</th>\n",
       "      <th>gas</th>\n",
       "      <th>Bulk 1</th>\n",
       "      <th>Bulk 2</th>\n",
       "      <th>Bulk 3</th>\n",
       "      <th>...</th>\n",
       "      <th>Wire 1</th>\n",
       "      <th>Wire 2</th>\n",
       "      <th>Wire 3</th>\n",
       "      <th>Wire 4</th>\n",
       "      <th>Wire 5</th>\n",
       "      <th>Wire 6</th>\n",
       "      <th>Wire 7</th>\n",
       "      <th>Wire 8</th>\n",
       "      <th>Wire 9</th>\n",
       "      <th>time</th>\n",
       "    </tr>\n",
       "  </thead>\n",
       "  <tbody>\n",
       "    <tr>\n",
       "      <td>0</td>\n",
       "      <td>1</td>\n",
       "      <td>1571.0</td>\n",
       "      <td>1613.0</td>\n",
       "      <td>4.878147</td>\n",
       "      <td>3.183241</td>\n",
       "      <td>5</td>\n",
       "      <td>29.749986</td>\n",
       "      <td>0.0</td>\n",
       "      <td>0.0</td>\n",
       "      <td>0.0</td>\n",
       "      <td>...</td>\n",
       "      <td>60.059998</td>\n",
       "      <td>0.00000</td>\n",
       "      <td>0.0</td>\n",
       "      <td>0.0</td>\n",
       "      <td>0.0</td>\n",
       "      <td>0.0</td>\n",
       "      <td>0.0</td>\n",
       "      <td>0.0</td>\n",
       "      <td>0.0</td>\n",
       "      <td>861</td>\n",
       "    </tr>\n",
       "    <tr>\n",
       "      <td>1</td>\n",
       "      <td>2</td>\n",
       "      <td>1581.0</td>\n",
       "      <td>1602.0</td>\n",
       "      <td>3.052598</td>\n",
       "      <td>1.998112</td>\n",
       "      <td>4</td>\n",
       "      <td>12.555561</td>\n",
       "      <td>0.0</td>\n",
       "      <td>0.0</td>\n",
       "      <td>0.0</td>\n",
       "      <td>...</td>\n",
       "      <td>96.052315</td>\n",
       "      <td>0.00000</td>\n",
       "      <td>0.0</td>\n",
       "      <td>0.0</td>\n",
       "      <td>0.0</td>\n",
       "      <td>0.0</td>\n",
       "      <td>0.0</td>\n",
       "      <td>0.0</td>\n",
       "      <td>0.0</td>\n",
       "      <td>1305</td>\n",
       "    </tr>\n",
       "    <tr>\n",
       "      <td>2</td>\n",
       "      <td>3</td>\n",
       "      <td>1596.0</td>\n",
       "      <td>1599.0</td>\n",
       "      <td>2.525882</td>\n",
       "      <td>1.599076</td>\n",
       "      <td>5</td>\n",
       "      <td>28.554793</td>\n",
       "      <td>0.0</td>\n",
       "      <td>0.0</td>\n",
       "      <td>0.0</td>\n",
       "      <td>...</td>\n",
       "      <td>91.160157</td>\n",
       "      <td>0.00000</td>\n",
       "      <td>0.0</td>\n",
       "      <td>0.0</td>\n",
       "      <td>0.0</td>\n",
       "      <td>0.0</td>\n",
       "      <td>0.0</td>\n",
       "      <td>0.0</td>\n",
       "      <td>0.0</td>\n",
       "      <td>1300</td>\n",
       "    </tr>\n",
       "    <tr>\n",
       "      <td>3</td>\n",
       "      <td>4</td>\n",
       "      <td>1601.0</td>\n",
       "      <td>1625.0</td>\n",
       "      <td>3.209250</td>\n",
       "      <td>2.060298</td>\n",
       "      <td>4</td>\n",
       "      <td>18.841219</td>\n",
       "      <td>0.0</td>\n",
       "      <td>0.0</td>\n",
       "      <td>0.0</td>\n",
       "      <td>...</td>\n",
       "      <td>89.063515</td>\n",
       "      <td>0.00000</td>\n",
       "      <td>0.0</td>\n",
       "      <td>0.0</td>\n",
       "      <td>0.0</td>\n",
       "      <td>0.0</td>\n",
       "      <td>0.0</td>\n",
       "      <td>0.0</td>\n",
       "      <td>0.0</td>\n",
       "      <td>388</td>\n",
       "    </tr>\n",
       "    <tr>\n",
       "      <td>4</td>\n",
       "      <td>5</td>\n",
       "      <td>1576.0</td>\n",
       "      <td>1602.0</td>\n",
       "      <td>3.347173</td>\n",
       "      <td>2.252643</td>\n",
       "      <td>4</td>\n",
       "      <td>5.413692</td>\n",
       "      <td>0.0</td>\n",
       "      <td>0.0</td>\n",
       "      <td>0.0</td>\n",
       "      <td>...</td>\n",
       "      <td>89.238236</td>\n",
       "      <td>9.11456</td>\n",
       "      <td>0.0</td>\n",
       "      <td>0.0</td>\n",
       "      <td>0.0</td>\n",
       "      <td>0.0</td>\n",
       "      <td>0.0</td>\n",
       "      <td>0.0</td>\n",
       "      <td>0.0</td>\n",
       "      <td>762</td>\n",
       "    </tr>\n",
       "    <tr>\n",
       "      <td>...</td>\n",
       "      <td>...</td>\n",
       "      <td>...</td>\n",
       "      <td>...</td>\n",
       "      <td>...</td>\n",
       "      <td>...</td>\n",
       "      <td>...</td>\n",
       "      <td>...</td>\n",
       "      <td>...</td>\n",
       "      <td>...</td>\n",
       "      <td>...</td>\n",
       "      <td>...</td>\n",
       "      <td>...</td>\n",
       "      <td>...</td>\n",
       "      <td>...</td>\n",
       "      <td>...</td>\n",
       "      <td>...</td>\n",
       "      <td>...</td>\n",
       "      <td>...</td>\n",
       "      <td>...</td>\n",
       "      <td>...</td>\n",
       "      <td>...</td>\n",
       "    </tr>\n",
       "    <tr>\n",
       "      <td>2324</td>\n",
       "      <td>2495</td>\n",
       "      <td>1570.0</td>\n",
       "      <td>1591.0</td>\n",
       "      <td>3.210690</td>\n",
       "      <td>2.360777</td>\n",
       "      <td>4</td>\n",
       "      <td>7.125735</td>\n",
       "      <td>0.0</td>\n",
       "      <td>0.0</td>\n",
       "      <td>21.0</td>\n",
       "      <td>...</td>\n",
       "      <td>89.150879</td>\n",
       "      <td>0.00000</td>\n",
       "      <td>0.0</td>\n",
       "      <td>0.0</td>\n",
       "      <td>0.0</td>\n",
       "      <td>0.0</td>\n",
       "      <td>0.0</td>\n",
       "      <td>0.0</td>\n",
       "      <td>0.0</td>\n",
       "      <td>1137</td>\n",
       "    </tr>\n",
       "    <tr>\n",
       "      <td>2325</td>\n",
       "      <td>2496</td>\n",
       "      <td>1554.0</td>\n",
       "      <td>1591.0</td>\n",
       "      <td>4.203064</td>\n",
       "      <td>2.810185</td>\n",
       "      <td>6</td>\n",
       "      <td>9.412616</td>\n",
       "      <td>0.0</td>\n",
       "      <td>0.0</td>\n",
       "      <td>0.0</td>\n",
       "      <td>...</td>\n",
       "      <td>114.179527</td>\n",
       "      <td>0.00000</td>\n",
       "      <td>0.0</td>\n",
       "      <td>0.0</td>\n",
       "      <td>0.0</td>\n",
       "      <td>0.0</td>\n",
       "      <td>0.0</td>\n",
       "      <td>0.0</td>\n",
       "      <td>0.0</td>\n",
       "      <td>1618</td>\n",
       "    </tr>\n",
       "    <tr>\n",
       "      <td>2326</td>\n",
       "      <td>2497</td>\n",
       "      <td>1571.0</td>\n",
       "      <td>1589.0</td>\n",
       "      <td>2.212379</td>\n",
       "      <td>1.851269</td>\n",
       "      <td>3</td>\n",
       "      <td>6.271699</td>\n",
       "      <td>0.0</td>\n",
       "      <td>0.0</td>\n",
       "      <td>0.0</td>\n",
       "      <td>...</td>\n",
       "      <td>94.086723</td>\n",
       "      <td>9.04800</td>\n",
       "      <td>0.0</td>\n",
       "      <td>0.0</td>\n",
       "      <td>0.0</td>\n",
       "      <td>0.0</td>\n",
       "      <td>0.0</td>\n",
       "      <td>0.0</td>\n",
       "      <td>0.0</td>\n",
       "      <td>717</td>\n",
       "    </tr>\n",
       "    <tr>\n",
       "      <td>2327</td>\n",
       "      <td>2498</td>\n",
       "      <td>1591.0</td>\n",
       "      <td>1594.0</td>\n",
       "      <td>3.408725</td>\n",
       "      <td>2.355428</td>\n",
       "      <td>5</td>\n",
       "      <td>14.953657</td>\n",
       "      <td>0.0</td>\n",
       "      <td>0.0</td>\n",
       "      <td>90.0</td>\n",
       "      <td>...</td>\n",
       "      <td>118.110717</td>\n",
       "      <td>0.00000</td>\n",
       "      <td>0.0</td>\n",
       "      <td>0.0</td>\n",
       "      <td>0.0</td>\n",
       "      <td>0.0</td>\n",
       "      <td>0.0</td>\n",
       "      <td>0.0</td>\n",
       "      <td>0.0</td>\n",
       "      <td>1302</td>\n",
       "    </tr>\n",
       "    <tr>\n",
       "      <td>2328</td>\n",
       "      <td>2499</td>\n",
       "      <td>1569.0</td>\n",
       "      <td>1603.0</td>\n",
       "      <td>4.098431</td>\n",
       "      <td>2.777865</td>\n",
       "      <td>4</td>\n",
       "      <td>11.336151</td>\n",
       "      <td>0.0</td>\n",
       "      <td>0.0</td>\n",
       "      <td>47.0</td>\n",
       "      <td>...</td>\n",
       "      <td>110.160958</td>\n",
       "      <td>50.00528</td>\n",
       "      <td>0.0</td>\n",
       "      <td>0.0</td>\n",
       "      <td>0.0</td>\n",
       "      <td>0.0</td>\n",
       "      <td>0.0</td>\n",
       "      <td>0.0</td>\n",
       "      <td>0.0</td>\n",
       "      <td>1203</td>\n",
       "    </tr>\n",
       "  </tbody>\n",
       "</table>\n",
       "<p>2329 rows × 32 columns</p>\n",
       "</div>"
      ],
      "text/plain": [
       "       key  start_temp  last_temp  active_power_sum  reactive_power_sum  \\\n",
       "0        1      1571.0     1613.0          4.878147            3.183241   \n",
       "1        2      1581.0     1602.0          3.052598            1.998112   \n",
       "2        3      1596.0     1599.0          2.525882            1.599076   \n",
       "3        4      1601.0     1625.0          3.209250            2.060298   \n",
       "4        5      1576.0     1602.0          3.347173            2.252643   \n",
       "...    ...         ...        ...               ...                 ...   \n",
       "2324  2495      1570.0     1591.0          3.210690            2.360777   \n",
       "2325  2496      1554.0     1591.0          4.203064            2.810185   \n",
       "2326  2497      1571.0     1589.0          2.212379            1.851269   \n",
       "2327  2498      1591.0     1594.0          3.408725            2.355428   \n",
       "2328  2499      1569.0     1603.0          4.098431            2.777865   \n",
       "\n",
       "      number_heatings        gas  Bulk 1  Bulk 2  Bulk 3  ...      Wire 1  \\\n",
       "0                   5  29.749986     0.0     0.0     0.0  ...   60.059998   \n",
       "1                   4  12.555561     0.0     0.0     0.0  ...   96.052315   \n",
       "2                   5  28.554793     0.0     0.0     0.0  ...   91.160157   \n",
       "3                   4  18.841219     0.0     0.0     0.0  ...   89.063515   \n",
       "4                   4   5.413692     0.0     0.0     0.0  ...   89.238236   \n",
       "...               ...        ...     ...     ...     ...  ...         ...   \n",
       "2324                4   7.125735     0.0     0.0    21.0  ...   89.150879   \n",
       "2325                6   9.412616     0.0     0.0     0.0  ...  114.179527   \n",
       "2326                3   6.271699     0.0     0.0     0.0  ...   94.086723   \n",
       "2327                5  14.953657     0.0     0.0    90.0  ...  118.110717   \n",
       "2328                4  11.336151     0.0     0.0    47.0  ...  110.160958   \n",
       "\n",
       "        Wire 2  Wire 3  Wire 4  Wire 5  Wire 6  Wire 7  Wire 8  Wire 9  time  \n",
       "0      0.00000     0.0     0.0     0.0     0.0     0.0     0.0     0.0   861  \n",
       "1      0.00000     0.0     0.0     0.0     0.0     0.0     0.0     0.0  1305  \n",
       "2      0.00000     0.0     0.0     0.0     0.0     0.0     0.0     0.0  1300  \n",
       "3      0.00000     0.0     0.0     0.0     0.0     0.0     0.0     0.0   388  \n",
       "4      9.11456     0.0     0.0     0.0     0.0     0.0     0.0     0.0   762  \n",
       "...        ...     ...     ...     ...     ...     ...     ...     ...   ...  \n",
       "2324   0.00000     0.0     0.0     0.0     0.0     0.0     0.0     0.0  1137  \n",
       "2325   0.00000     0.0     0.0     0.0     0.0     0.0     0.0     0.0  1618  \n",
       "2326   9.04800     0.0     0.0     0.0     0.0     0.0     0.0     0.0   717  \n",
       "2327   0.00000     0.0     0.0     0.0     0.0     0.0     0.0     0.0  1302  \n",
       "2328  50.00528     0.0     0.0     0.0     0.0     0.0     0.0     0.0  1203  \n",
       "\n",
       "[2329 rows x 32 columns]"
      ]
     },
     "execution_count": 17,
     "metadata": {},
     "output_type": "execute_result"
    }
   ],
   "source": [
    "all_data = all_data.drop(all_data.loc[all_data['last_temp'].isna(),:,].index)\n",
    "all_data"
   ]
  },
  {
   "cell_type": "markdown",
   "metadata": {},
   "source": [
    "<div style=\"background: #cceeaa; padding: 5px; border: 1px solid green; border-radius: 5px;\">\n",
    "    <font color='green'> <b><u>КОММЕНТАРИЙ РЕВЬЮЕРА</u></b>\n",
    "</font>\n",
    "<font color='green'><br>ДА!!!, внимательная работа."
   ]
  },
  {
   "cell_type": "markdown",
   "metadata": {},
   "source": [
    "Разделим данные на целевой признак и features."
   ]
  },
  {
   "cell_type": "code",
   "execution_count": 18,
   "metadata": {},
   "outputs": [],
   "source": [
    "target = all_data['last_temp']\n",
    "features = all_data.drop(['last_temp'], axis=1)"
   ]
  },
  {
   "cell_type": "markdown",
   "metadata": {},
   "source": [
    "Посмотрим на корреляцию данных. Так как данных много возьмем только основные. Потому что все фичи не влезут на график."
   ]
  },
  {
   "cell_type": "code",
   "execution_count": 19,
   "metadata": {},
   "outputs": [
    {
     "data": {
      "text/html": [
       "<div>\n",
       "<style scoped>\n",
       "    .dataframe tbody tr th:only-of-type {\n",
       "        vertical-align: middle;\n",
       "    }\n",
       "\n",
       "    .dataframe tbody tr th {\n",
       "        vertical-align: top;\n",
       "    }\n",
       "\n",
       "    .dataframe thead th {\n",
       "        text-align: right;\n",
       "    }\n",
       "</style>\n",
       "<table border=\"1\" class=\"dataframe\">\n",
       "  <thead>\n",
       "    <tr style=\"text-align: right;\">\n",
       "      <th></th>\n",
       "      <th>active_power_sum</th>\n",
       "      <th>gas</th>\n",
       "      <th>number_heatings</th>\n",
       "      <th>reactive_power_sum</th>\n",
       "      <th>start_temp</th>\n",
       "      <th>time</th>\n",
       "    </tr>\n",
       "  </thead>\n",
       "  <tbody>\n",
       "    <tr>\n",
       "      <td>active_power_sum</td>\n",
       "      <td>1.000000</td>\n",
       "      <td>0.373832</td>\n",
       "      <td>0.760486</td>\n",
       "      <td>0.088484</td>\n",
       "      <td>-0.347718</td>\n",
       "      <td>0.537754</td>\n",
       "    </tr>\n",
       "    <tr>\n",
       "      <td>gas</td>\n",
       "      <td>0.373832</td>\n",
       "      <td>1.000000</td>\n",
       "      <td>0.404036</td>\n",
       "      <td>0.025247</td>\n",
       "      <td>0.037341</td>\n",
       "      <td>0.454465</td>\n",
       "    </tr>\n",
       "    <tr>\n",
       "      <td>number_heatings</td>\n",
       "      <td>0.760486</td>\n",
       "      <td>0.404036</td>\n",
       "      <td>1.000000</td>\n",
       "      <td>0.063753</td>\n",
       "      <td>-0.141478</td>\n",
       "      <td>0.587073</td>\n",
       "    </tr>\n",
       "    <tr>\n",
       "      <td>reactive_power_sum</td>\n",
       "      <td>0.088484</td>\n",
       "      <td>0.025247</td>\n",
       "      <td>0.063753</td>\n",
       "      <td>1.000000</td>\n",
       "      <td>-0.018022</td>\n",
       "      <td>0.049581</td>\n",
       "    </tr>\n",
       "    <tr>\n",
       "      <td>start_temp</td>\n",
       "      <td>-0.347718</td>\n",
       "      <td>0.037341</td>\n",
       "      <td>-0.141478</td>\n",
       "      <td>-0.018022</td>\n",
       "      <td>1.000000</td>\n",
       "      <td>0.173999</td>\n",
       "    </tr>\n",
       "    <tr>\n",
       "      <td>time</td>\n",
       "      <td>0.537754</td>\n",
       "      <td>0.454465</td>\n",
       "      <td>0.587073</td>\n",
       "      <td>0.049581</td>\n",
       "      <td>0.173999</td>\n",
       "      <td>1.000000</td>\n",
       "    </tr>\n",
       "  </tbody>\n",
       "</table>\n",
       "</div>"
      ],
      "text/plain": [
       "                    active_power_sum       gas  number_heatings  \\\n",
       "active_power_sum            1.000000  0.373832         0.760486   \n",
       "gas                         0.373832  1.000000         0.404036   \n",
       "number_heatings             0.760486  0.404036         1.000000   \n",
       "reactive_power_sum          0.088484  0.025247         0.063753   \n",
       "start_temp                 -0.347718  0.037341        -0.141478   \n",
       "time                        0.537754  0.454465         0.587073   \n",
       "\n",
       "                    reactive_power_sum  start_temp      time  \n",
       "active_power_sum              0.088484   -0.347718  0.537754  \n",
       "gas                           0.025247    0.037341  0.454465  \n",
       "number_heatings               0.063753   -0.141478  0.587073  \n",
       "reactive_power_sum            1.000000   -0.018022  0.049581  \n",
       "start_temp                   -0.018022    1.000000  0.173999  \n",
       "time                          0.049581    0.173999  1.000000  "
      ]
     },
     "execution_count": 19,
     "metadata": {},
     "output_type": "execute_result"
    }
   ],
   "source": [
    "data_corr = features.pivot_table(index = 'key', values = ['start_temp', 'active_power_sum', \n",
    "                                                          'reactive_power_sum', 'number_heatings', 'gas', 'time'])#, \n",
    "                                                         # 'Bulk 1', 'Bulk 2', 'Bulk 3', 'Bulk 4', 'Bulk 5', 'Bulk 6', \n",
    "                                                         # 'Bulk 7', 'Bulk 8', 'Bulk 9', 'Bulk 10', 'Bulk 11', \n",
    "                                                         # 'Bulk 12', 'Bulk 13', 'Bulk 14', 'Bulk 15', 'Wire 1', \n",
    "                                                         # 'Wire 2', 'Wire 3', 'Wire 4', 'Wire 5', 'Wire 6', \n",
    "                                                         # 'Wire 7', 'Wire 9', 'Wire 8'])\n",
    "data_corr.corr()"
   ]
  },
  {
   "cell_type": "code",
   "execution_count": 20,
   "metadata": {},
   "outputs": [
    {
     "data": {
      "image/png": "[encoded data removed]",
      "text/plain": [
       "<Figure size 432x288 with 2 Axes>"
      ]
     },
     "metadata": {
      "needs_background": "light"
     },
     "output_type": "display_data"
    }
   ],
   "source": [
    "sns.heatmap(data_corr.corr(), cmap= 'coolwarm')\n",
    "plt.show()"
   ]
  },
  {
   "cell_type": "markdown",
   "metadata": {},
   "source": [
    "Далее, разделим наши данные на тестовую и обучающую выборки. И удалим key так как он точно не является полезным."
   ]
  },
  {
   "cell_type": "code",
   "execution_count": 21,
   "metadata": {},
   "outputs": [],
   "source": [
    "features = features.drop(['key'], axis=1)"
   ]
  },
  {
   "cell_type": "code",
   "execution_count": 22,
   "metadata": {},
   "outputs": [],
   "source": [
    "features_train, features_valid, target_train, target_valid = train_test_split(\n",
    "    features, target, test_size=0.25, random_state=12345)"
   ]
  },
  {
   "cell_type": "markdown",
   "metadata": {},
   "source": [
    "Масштабируем данные"
   ]
  },
  {
   "cell_type": "code",
   "execution_count": 23,
   "metadata": {},
   "outputs": [],
   "source": [
    "numeric = ['start_temp', 'active_power_sum', 'reactive_power_sum', 'number_heatings', 'gas']\n",
    "\n",
    "scaler = StandardScaler()\n",
    "scaler.fit(features_train[numeric])\n",
    "features_train[numeric] = scaler.transform(features_train[numeric])\n",
    "features_valid[numeric] = scaler.transform(features_valid[numeric])"
   ]
  },
  {
   "cell_type": "code",
   "execution_count": 24,
   "metadata": {},
   "outputs": [
    {
     "data": {
      "text/html": [
       "<div>\n",
       "<style scoped>\n",
       "    .dataframe tbody tr th:only-of-type {\n",
       "        vertical-align: middle;\n",
       "    }\n",
       "\n",
       "    .dataframe tbody tr th {\n",
       "        vertical-align: top;\n",
       "    }\n",
       "\n",
       "    .dataframe thead th {\n",
       "        text-align: right;\n",
       "    }\n",
       "</style>\n",
       "<table border=\"1\" class=\"dataframe\">\n",
       "  <thead>\n",
       "    <tr style=\"text-align: right;\">\n",
       "      <th></th>\n",
       "      <th>start_temp</th>\n",
       "      <th>active_power_sum</th>\n",
       "      <th>reactive_power_sum</th>\n",
       "      <th>number_heatings</th>\n",
       "      <th>gas</th>\n",
       "      <th>Bulk 1</th>\n",
       "      <th>Bulk 2</th>\n",
       "      <th>Bulk 3</th>\n",
       "      <th>Bulk 4</th>\n",
       "      <th>Bulk 5</th>\n",
       "      <th>...</th>\n",
       "      <th>Wire 1</th>\n",
       "      <th>Wire 2</th>\n",
       "      <th>Wire 3</th>\n",
       "      <th>Wire 4</th>\n",
       "      <th>Wire 5</th>\n",
       "      <th>Wire 6</th>\n",
       "      <th>Wire 7</th>\n",
       "      <th>Wire 8</th>\n",
       "      <th>Wire 9</th>\n",
       "      <th>time</th>\n",
       "    </tr>\n",
       "  </thead>\n",
       "  <tbody>\n",
       "    <tr>\n",
       "      <td>0</td>\n",
       "      <td>1571.0</td>\n",
       "      <td>4.878147</td>\n",
       "      <td>3.183241</td>\n",
       "      <td>5</td>\n",
       "      <td>29.749986</td>\n",
       "      <td>0.0</td>\n",
       "      <td>0.0</td>\n",
       "      <td>0.0</td>\n",
       "      <td>43.0</td>\n",
       "      <td>0.0</td>\n",
       "      <td>...</td>\n",
       "      <td>60.059998</td>\n",
       "      <td>0.00000</td>\n",
       "      <td>0.0</td>\n",
       "      <td>0.0</td>\n",
       "      <td>0.0</td>\n",
       "      <td>0.0</td>\n",
       "      <td>0.0</td>\n",
       "      <td>0.0</td>\n",
       "      <td>0.0</td>\n",
       "      <td>861</td>\n",
       "    </tr>\n",
       "    <tr>\n",
       "      <td>1</td>\n",
       "      <td>1581.0</td>\n",
       "      <td>3.052598</td>\n",
       "      <td>1.998112</td>\n",
       "      <td>4</td>\n",
       "      <td>12.555561</td>\n",
       "      <td>0.0</td>\n",
       "      <td>0.0</td>\n",
       "      <td>0.0</td>\n",
       "      <td>73.0</td>\n",
       "      <td>0.0</td>\n",
       "      <td>...</td>\n",
       "      <td>96.052315</td>\n",
       "      <td>0.00000</td>\n",
       "      <td>0.0</td>\n",
       "      <td>0.0</td>\n",
       "      <td>0.0</td>\n",
       "      <td>0.0</td>\n",
       "      <td>0.0</td>\n",
       "      <td>0.0</td>\n",
       "      <td>0.0</td>\n",
       "      <td>1305</td>\n",
       "    </tr>\n",
       "    <tr>\n",
       "      <td>2</td>\n",
       "      <td>1596.0</td>\n",
       "      <td>2.525882</td>\n",
       "      <td>1.599076</td>\n",
       "      <td>5</td>\n",
       "      <td>28.554793</td>\n",
       "      <td>0.0</td>\n",
       "      <td>0.0</td>\n",
       "      <td>0.0</td>\n",
       "      <td>34.0</td>\n",
       "      <td>0.0</td>\n",
       "      <td>...</td>\n",
       "      <td>91.160157</td>\n",
       "      <td>0.00000</td>\n",
       "      <td>0.0</td>\n",
       "      <td>0.0</td>\n",
       "      <td>0.0</td>\n",
       "      <td>0.0</td>\n",
       "      <td>0.0</td>\n",
       "      <td>0.0</td>\n",
       "      <td>0.0</td>\n",
       "      <td>1300</td>\n",
       "    </tr>\n",
       "    <tr>\n",
       "      <td>3</td>\n",
       "      <td>1601.0</td>\n",
       "      <td>3.209250</td>\n",
       "      <td>2.060298</td>\n",
       "      <td>4</td>\n",
       "      <td>18.841219</td>\n",
       "      <td>0.0</td>\n",
       "      <td>0.0</td>\n",
       "      <td>0.0</td>\n",
       "      <td>81.0</td>\n",
       "      <td>0.0</td>\n",
       "      <td>...</td>\n",
       "      <td>89.063515</td>\n",
       "      <td>0.00000</td>\n",
       "      <td>0.0</td>\n",
       "      <td>0.0</td>\n",
       "      <td>0.0</td>\n",
       "      <td>0.0</td>\n",
       "      <td>0.0</td>\n",
       "      <td>0.0</td>\n",
       "      <td>0.0</td>\n",
       "      <td>388</td>\n",
       "    </tr>\n",
       "    <tr>\n",
       "      <td>4</td>\n",
       "      <td>1576.0</td>\n",
       "      <td>3.347173</td>\n",
       "      <td>2.252643</td>\n",
       "      <td>4</td>\n",
       "      <td>5.413692</td>\n",
       "      <td>0.0</td>\n",
       "      <td>0.0</td>\n",
       "      <td>0.0</td>\n",
       "      <td>78.0</td>\n",
       "      <td>0.0</td>\n",
       "      <td>...</td>\n",
       "      <td>89.238236</td>\n",
       "      <td>9.11456</td>\n",
       "      <td>0.0</td>\n",
       "      <td>0.0</td>\n",
       "      <td>0.0</td>\n",
       "      <td>0.0</td>\n",
       "      <td>0.0</td>\n",
       "      <td>0.0</td>\n",
       "      <td>0.0</td>\n",
       "      <td>762</td>\n",
       "    </tr>\n",
       "    <tr>\n",
       "      <td>...</td>\n",
       "      <td>...</td>\n",
       "      <td>...</td>\n",
       "      <td>...</td>\n",
       "      <td>...</td>\n",
       "      <td>...</td>\n",
       "      <td>...</td>\n",
       "      <td>...</td>\n",
       "      <td>...</td>\n",
       "      <td>...</td>\n",
       "      <td>...</td>\n",
       "      <td>...</td>\n",
       "      <td>...</td>\n",
       "      <td>...</td>\n",
       "      <td>...</td>\n",
       "      <td>...</td>\n",
       "      <td>...</td>\n",
       "      <td>...</td>\n",
       "      <td>...</td>\n",
       "      <td>...</td>\n",
       "      <td>...</td>\n",
       "      <td>...</td>\n",
       "    </tr>\n",
       "    <tr>\n",
       "      <td>2324</td>\n",
       "      <td>1570.0</td>\n",
       "      <td>3.210690</td>\n",
       "      <td>2.360777</td>\n",
       "      <td>4</td>\n",
       "      <td>7.125735</td>\n",
       "      <td>0.0</td>\n",
       "      <td>0.0</td>\n",
       "      <td>21.0</td>\n",
       "      <td>0.0</td>\n",
       "      <td>0.0</td>\n",
       "      <td>...</td>\n",
       "      <td>89.150879</td>\n",
       "      <td>0.00000</td>\n",
       "      <td>0.0</td>\n",
       "      <td>0.0</td>\n",
       "      <td>0.0</td>\n",
       "      <td>0.0</td>\n",
       "      <td>0.0</td>\n",
       "      <td>0.0</td>\n",
       "      <td>0.0</td>\n",
       "      <td>1137</td>\n",
       "    </tr>\n",
       "    <tr>\n",
       "      <td>2325</td>\n",
       "      <td>1554.0</td>\n",
       "      <td>4.203064</td>\n",
       "      <td>2.810185</td>\n",
       "      <td>6</td>\n",
       "      <td>9.412616</td>\n",
       "      <td>0.0</td>\n",
       "      <td>0.0</td>\n",
       "      <td>0.0</td>\n",
       "      <td>63.0</td>\n",
       "      <td>0.0</td>\n",
       "      <td>...</td>\n",
       "      <td>114.179527</td>\n",
       "      <td>0.00000</td>\n",
       "      <td>0.0</td>\n",
       "      <td>0.0</td>\n",
       "      <td>0.0</td>\n",
       "      <td>0.0</td>\n",
       "      <td>0.0</td>\n",
       "      <td>0.0</td>\n",
       "      <td>0.0</td>\n",
       "      <td>1618</td>\n",
       "    </tr>\n",
       "    <tr>\n",
       "      <td>2326</td>\n",
       "      <td>1571.0</td>\n",
       "      <td>2.212379</td>\n",
       "      <td>1.851269</td>\n",
       "      <td>3</td>\n",
       "      <td>6.271699</td>\n",
       "      <td>0.0</td>\n",
       "      <td>0.0</td>\n",
       "      <td>0.0</td>\n",
       "      <td>85.0</td>\n",
       "      <td>0.0</td>\n",
       "      <td>...</td>\n",
       "      <td>94.086723</td>\n",
       "      <td>9.04800</td>\n",
       "      <td>0.0</td>\n",
       "      <td>0.0</td>\n",
       "      <td>0.0</td>\n",
       "      <td>0.0</td>\n",
       "      <td>0.0</td>\n",
       "      <td>0.0</td>\n",
       "      <td>0.0</td>\n",
       "      <td>717</td>\n",
       "    </tr>\n",
       "    <tr>\n",
       "      <td>2327</td>\n",
       "      <td>1591.0</td>\n",
       "      <td>3.408725</td>\n",
       "      <td>2.355428</td>\n",
       "      <td>5</td>\n",
       "      <td>14.953657</td>\n",
       "      <td>0.0</td>\n",
       "      <td>0.0</td>\n",
       "      <td>90.0</td>\n",
       "      <td>0.0</td>\n",
       "      <td>0.0</td>\n",
       "      <td>...</td>\n",
       "      <td>118.110717</td>\n",
       "      <td>0.00000</td>\n",
       "      <td>0.0</td>\n",
       "      <td>0.0</td>\n",
       "      <td>0.0</td>\n",
       "      <td>0.0</td>\n",
       "      <td>0.0</td>\n",
       "      <td>0.0</td>\n",
       "      <td>0.0</td>\n",
       "      <td>1302</td>\n",
       "    </tr>\n",
       "    <tr>\n",
       "      <td>2328</td>\n",
       "      <td>1569.0</td>\n",
       "      <td>4.098431</td>\n",
       "      <td>2.777865</td>\n",
       "      <td>4</td>\n",
       "      <td>11.336151</td>\n",
       "      <td>0.0</td>\n",
       "      <td>0.0</td>\n",
       "      <td>47.0</td>\n",
       "      <td>0.0</td>\n",
       "      <td>0.0</td>\n",
       "      <td>...</td>\n",
       "      <td>110.160958</td>\n",
       "      <td>50.00528</td>\n",
       "      <td>0.0</td>\n",
       "      <td>0.0</td>\n",
       "      <td>0.0</td>\n",
       "      <td>0.0</td>\n",
       "      <td>0.0</td>\n",
       "      <td>0.0</td>\n",
       "      <td>0.0</td>\n",
       "      <td>1203</td>\n",
       "    </tr>\n",
       "  </tbody>\n",
       "</table>\n",
       "<p>2329 rows × 30 columns</p>\n",
       "</div>"
      ],
      "text/plain": [
       "      start_temp  active_power_sum  reactive_power_sum  number_heatings  \\\n",
       "0         1571.0          4.878147            3.183241                5   \n",
       "1         1581.0          3.052598            1.998112                4   \n",
       "2         1596.0          2.525882            1.599076                5   \n",
       "3         1601.0          3.209250            2.060298                4   \n",
       "4         1576.0          3.347173            2.252643                4   \n",
       "...          ...               ...                 ...              ...   \n",
       "2324      1570.0          3.210690            2.360777                4   \n",
       "2325      1554.0          4.203064            2.810185                6   \n",
       "2326      1571.0          2.212379            1.851269                3   \n",
       "2327      1591.0          3.408725            2.355428                5   \n",
       "2328      1569.0          4.098431            2.777865                4   \n",
       "\n",
       "            gas  Bulk 1  Bulk 2  Bulk 3  Bulk 4  Bulk 5  ...      Wire 1  \\\n",
       "0     29.749986     0.0     0.0     0.0    43.0     0.0  ...   60.059998   \n",
       "1     12.555561     0.0     0.0     0.0    73.0     0.0  ...   96.052315   \n",
       "2     28.554793     0.0     0.0     0.0    34.0     0.0  ...   91.160157   \n",
       "3     18.841219     0.0     0.0     0.0    81.0     0.0  ...   89.063515   \n",
       "4      5.413692     0.0     0.0     0.0    78.0     0.0  ...   89.238236   \n",
       "...         ...     ...     ...     ...     ...     ...  ...         ...   \n",
       "2324   7.125735     0.0     0.0    21.0     0.0     0.0  ...   89.150879   \n",
       "2325   9.412616     0.0     0.0     0.0    63.0     0.0  ...  114.179527   \n",
       "2326   6.271699     0.0     0.0     0.0    85.0     0.0  ...   94.086723   \n",
       "2327  14.953657     0.0     0.0    90.0     0.0     0.0  ...  118.110717   \n",
       "2328  11.336151     0.0     0.0    47.0     0.0     0.0  ...  110.160958   \n",
       "\n",
       "        Wire 2  Wire 3  Wire 4  Wire 5  Wire 6  Wire 7  Wire 8  Wire 9  time  \n",
       "0      0.00000     0.0     0.0     0.0     0.0     0.0     0.0     0.0   861  \n",
       "1      0.00000     0.0     0.0     0.0     0.0     0.0     0.0     0.0  1305  \n",
       "2      0.00000     0.0     0.0     0.0     0.0     0.0     0.0     0.0  1300  \n",
       "3      0.00000     0.0     0.0     0.0     0.0     0.0     0.0     0.0   388  \n",
       "4      9.11456     0.0     0.0     0.0     0.0     0.0     0.0     0.0   762  \n",
       "...        ...     ...     ...     ...     ...     ...     ...     ...   ...  \n",
       "2324   0.00000     0.0     0.0     0.0     0.0     0.0     0.0     0.0  1137  \n",
       "2325   0.00000     0.0     0.0     0.0     0.0     0.0     0.0     0.0  1618  \n",
       "2326   9.04800     0.0     0.0     0.0     0.0     0.0     0.0     0.0   717  \n",
       "2327   0.00000     0.0     0.0     0.0     0.0     0.0     0.0     0.0  1302  \n",
       "2328  50.00528     0.0     0.0     0.0     0.0     0.0     0.0     0.0  1203  \n",
       "\n",
       "[2329 rows x 30 columns]"
      ]
     },
     "execution_count": 24,
     "metadata": {},
     "output_type": "execute_result"
    }
   ],
   "source": [
    "features"
   ]
  },
  {
   "cell_type": "markdown",
   "metadata": {},
   "source": [
    "<div style=\"background: #cceeaa; padding: 5px; border: 1px solid green; border-radius: 5px;\">\n",
    "    <font color='green'> <b><u>КОММЕНТАРИЙ РЕВЬЮЕРА</u></b>\n",
    "</font>\n",
    "<font color='red'><br>Фактор кей - лучше не использовать как фактор, это просто цифры. В нём нет бизнес-велью для целевой."
   ]
  },
  {
   "cell_type": "markdown",
   "metadata": {},
   "source": [
    "<div style=\"background: #cceeaa; padding: 5px; border: 1px solid green; border-radius: 5px;\">\n",
    "    <font color='green'> <b><u>КОММЕНТАРИЙ РЕВЬЮЕРА</u></b>\n",
    "</font>\n",
    "<font color='green'><br>Тут особых показаний нет для масштабирования. Но, как говорится, кашу маслом не испортишь)"
   ]
  },
  {
   "cell_type": "markdown",
   "metadata": {},
   "source": [
    "## Обучение моделей <a id=\"step3\"></a>  "
   ]
  },
  {
   "cell_type": "markdown",
   "metadata": {},
   "source": [
    "Перед нами стоит задача регрессии, поэтому обучим несколько регрессионных моделей и посмотрим какая из них покажет наилучший результат."
   ]
  },
  {
   "cell_type": "markdown",
   "metadata": {},
   "source": [
    "**Линейная регрессия**"
   ]
  },
  {
   "cell_type": "code",
   "execution_count": 25,
   "metadata": {},
   "outputs": [],
   "source": [
    "LinearReg = LinearRegression()\n",
    "LinearReg.fit(features_train, target_train)\n",
    "predictions_LinearReg = pd.DataFrame(LinearReg.predict(features_valid), columns=['LinearReg_predict'])"
   ]
  },
  {
   "cell_type": "markdown",
   "metadata": {},
   "source": [
    "**CatBoost**"
   ]
  },
  {
   "cell_type": "code",
   "execution_count": 26,
   "metadata": {},
   "outputs": [
    {
     "name": "stdout",
     "output_type": "stream",
     "text": [
      "0:\tlearn: 6.2101938\ttotal: 172ms\tremaining: 0us\n"
     ]
    }
   ],
   "source": [
    "cat = CatBoostRegressor(loss_function='MAE', iterations=1, learning_rate=1, depth=10)\n",
    "cat.fit(features_train, target_train)\n",
    "predictions_cat = pd.DataFrame(cat.predict(features_valid), columns=['cat_predict'])"
   ]
  },
  {
   "cell_type": "markdown",
   "metadata": {},
   "source": [
    "**Random Forest Regressor**"
   ]
  },
  {
   "cell_type": "code",
   "execution_count": 27,
   "metadata": {},
   "outputs": [],
   "source": [
    "RandomForest = RandomForestRegressor(max_depth=30, n_estimators = 60, random_state=12345)\n",
    "RandomForest.fit(features_train, target_train)\n",
    "predictions_RandomForest = pd.DataFrame(RandomForest.predict(features_valid), columns=['RandomForest_predict'])"
   ]
  },
  {
   "cell_type": "markdown",
   "metadata": {},
   "source": [
    "**Decision Tree Regressor**"
   ]
  },
  {
   "cell_type": "code",
   "execution_count": 28,
   "metadata": {},
   "outputs": [],
   "source": [
    "DecisionTree = DecisionTreeRegressor(max_depth=6)\n",
    "DecisionTree.fit(features_train, target_train)\n",
    "predictions_DecisionTree = pd.DataFrame(DecisionTree.predict(features_valid), columns=['DecisionTree_predict'])"
   ]
  },
  {
   "cell_type": "markdown",
   "metadata": {},
   "source": [
    "**LightGBM**"
   ]
  },
  {
   "cell_type": "code",
   "execution_count": 29,
   "metadata": {},
   "outputs": [
    {
     "name": "stdout",
     "output_type": "stream",
     "text": [
      "[1]\tvalid_0's l1: 8.10557\n",
      "Training until validation scores don't improve for 30 rounds\n",
      "[2]\tvalid_0's l1: 7.83278\n",
      "[3]\tvalid_0's l1: 7.58712\n",
      "[4]\tvalid_0's l1: 7.38111\n",
      "[5]\tvalid_0's l1: 7.23444\n",
      "[6]\tvalid_0's l1: 7.08142\n",
      "[7]\tvalid_0's l1: 6.93207\n",
      "[8]\tvalid_0's l1: 6.82213\n",
      "[9]\tvalid_0's l1: 6.72075\n",
      "[10]\tvalid_0's l1: 6.63421\n",
      "[11]\tvalid_0's l1: 6.51175\n",
      "[12]\tvalid_0's l1: 6.43614\n",
      "[13]\tvalid_0's l1: 6.386\n",
      "[14]\tvalid_0's l1: 6.31068\n",
      "[15]\tvalid_0's l1: 6.23537\n",
      "[16]\tvalid_0's l1: 6.17894\n",
      "[17]\tvalid_0's l1: 6.15161\n",
      "[18]\tvalid_0's l1: 6.1003\n",
      "[19]\tvalid_0's l1: 6.06576\n",
      "[20]\tvalid_0's l1: 6.04165\n",
      "[21]\tvalid_0's l1: 6.00396\n",
      "[22]\tvalid_0's l1: 5.98389\n",
      "[23]\tvalid_0's l1: 5.95927\n",
      "[24]\tvalid_0's l1: 5.93138\n",
      "[25]\tvalid_0's l1: 5.91215\n",
      "[26]\tvalid_0's l1: 5.89601\n",
      "[27]\tvalid_0's l1: 5.87315\n",
      "[28]\tvalid_0's l1: 5.86514\n",
      "[29]\tvalid_0's l1: 5.8507\n",
      "[30]\tvalid_0's l1: 5.85406\n",
      "[31]\tvalid_0's l1: 5.84146\n",
      "[32]\tvalid_0's l1: 5.82949\n",
      "[33]\tvalid_0's l1: 5.82986\n",
      "[34]\tvalid_0's l1: 5.83029\n",
      "[35]\tvalid_0's l1: 5.82046\n",
      "[36]\tvalid_0's l1: 5.81516\n",
      "[37]\tvalid_0's l1: 5.79577\n",
      "[38]\tvalid_0's l1: 5.80323\n",
      "[39]\tvalid_0's l1: 5.79707\n",
      "[40]\tvalid_0's l1: 5.79911\n",
      "[41]\tvalid_0's l1: 5.80029\n",
      "[42]\tvalid_0's l1: 5.80047\n",
      "[43]\tvalid_0's l1: 5.79577\n",
      "[44]\tvalid_0's l1: 5.7946\n",
      "[45]\tvalid_0's l1: 5.78948\n",
      "[46]\tvalid_0's l1: 5.77567\n",
      "[47]\tvalid_0's l1: 5.77017\n",
      "[48]\tvalid_0's l1: 5.77527\n",
      "[49]\tvalid_0's l1: 5.76658\n",
      "[50]\tvalid_0's l1: 5.7717\n",
      "[51]\tvalid_0's l1: 5.77346\n",
      "[52]\tvalid_0's l1: 5.78306\n",
      "[53]\tvalid_0's l1: 5.78761\n",
      "[54]\tvalid_0's l1: 5.78342\n",
      "[55]\tvalid_0's l1: 5.78742\n",
      "[56]\tvalid_0's l1: 5.78439\n",
      "[57]\tvalid_0's l1: 5.78147\n",
      "[58]\tvalid_0's l1: 5.78642\n",
      "[59]\tvalid_0's l1: 5.77877\n",
      "[60]\tvalid_0's l1: 5.78708\n",
      "[61]\tvalid_0's l1: 5.78448\n",
      "[62]\tvalid_0's l1: 5.78378\n",
      "[63]\tvalid_0's l1: 5.78469\n",
      "[64]\tvalid_0's l1: 5.78667\n",
      "[65]\tvalid_0's l1: 5.78237\n",
      "[66]\tvalid_0's l1: 5.77737\n",
      "[67]\tvalid_0's l1: 5.77398\n",
      "[68]\tvalid_0's l1: 5.76607\n",
      "[69]\tvalid_0's l1: 5.76356\n",
      "[70]\tvalid_0's l1: 5.75698\n",
      "[71]\tvalid_0's l1: 5.76144\n",
      "[72]\tvalid_0's l1: 5.76073\n",
      "[73]\tvalid_0's l1: 5.75431\n",
      "[74]\tvalid_0's l1: 5.75701\n",
      "[75]\tvalid_0's l1: 5.75936\n",
      "[76]\tvalid_0's l1: 5.7622\n",
      "[77]\tvalid_0's l1: 5.76084\n",
      "[78]\tvalid_0's l1: 5.75648\n",
      "[79]\tvalid_0's l1: 5.75784\n",
      "[80]\tvalid_0's l1: 5.75545\n",
      "[81]\tvalid_0's l1: 5.75003\n",
      "[82]\tvalid_0's l1: 5.75001\n",
      "[83]\tvalid_0's l1: 5.75182\n",
      "[84]\tvalid_0's l1: 5.753\n",
      "[85]\tvalid_0's l1: 5.75352\n",
      "[86]\tvalid_0's l1: 5.75321\n",
      "[87]\tvalid_0's l1: 5.75002\n",
      "[88]\tvalid_0's l1: 5.7479\n",
      "[89]\tvalid_0's l1: 5.74639\n",
      "[90]\tvalid_0's l1: 5.75134\n",
      "[91]\tvalid_0's l1: 5.75767\n",
      "[92]\tvalid_0's l1: 5.75863\n",
      "[93]\tvalid_0's l1: 5.75643\n",
      "[94]\tvalid_0's l1: 5.75659\n",
      "[95]\tvalid_0's l1: 5.76383\n",
      "[96]\tvalid_0's l1: 5.76305\n",
      "[97]\tvalid_0's l1: 5.76931\n",
      "[98]\tvalid_0's l1: 5.76488\n",
      "[99]\tvalid_0's l1: 5.76756\n",
      "[100]\tvalid_0's l1: 5.77118\n",
      "[101]\tvalid_0's l1: 5.76946\n",
      "[102]\tvalid_0's l1: 5.77336\n",
      "[103]\tvalid_0's l1: 5.77819\n",
      "[104]\tvalid_0's l1: 5.771\n",
      "[105]\tvalid_0's l1: 5.77226\n",
      "[106]\tvalid_0's l1: 5.77401\n",
      "[107]\tvalid_0's l1: 5.77891\n",
      "[108]\tvalid_0's l1: 5.77521\n",
      "[109]\tvalid_0's l1: 5.77866\n",
      "[110]\tvalid_0's l1: 5.77652\n",
      "[111]\tvalid_0's l1: 5.77374\n",
      "[112]\tvalid_0's l1: 5.77998\n",
      "[113]\tvalid_0's l1: 5.77836\n",
      "[114]\tvalid_0's l1: 5.78291\n",
      "[115]\tvalid_0's l1: 5.78553\n",
      "[116]\tvalid_0's l1: 5.78982\n",
      "[117]\tvalid_0's l1: 5.78712\n",
      "[118]\tvalid_0's l1: 5.78625\n",
      "[119]\tvalid_0's l1: 5.78867\n",
      "Early stopping, best iteration is:\n",
      "[89]\tvalid_0's l1: 5.74639\n"
     ]
    }
   ],
   "source": [
    "lgb_train = lgb.Dataset(features_train, target_train)\n",
    "lgb_eval = lgb.Dataset(features_valid, target_valid, reference=lgb_train)\n",
    "\n",
    "params = {'metric': {'mae'}}\n",
    "\n",
    "gbm = lgb.train(params,\n",
    "                lgb_train,\n",
    "                num_boost_round=150,\n",
    "                valid_sets=lgb_eval,\n",
    "                early_stopping_rounds=30)\n",
    "lgb_predictions = pd.DataFrame(gbm.predict(features_valid, num_iteration=gbm.best_iteration))"
   ]
  },
  {
   "cell_type": "markdown",
   "metadata": {},
   "source": [
    "## Оценка моделей <a id=\"step4\"></a>  "
   ]
  },
  {
   "cell_type": "code",
   "execution_count": 30,
   "metadata": {},
   "outputs": [
    {
     "name": "stdout",
     "output_type": "stream",
     "text": [
      "MAE Linear Regression: 6.342183908965219\n"
     ]
    }
   ],
   "source": [
    "print('MAE Linear Regression:', mean_absolute_error(target_valid, predictions_LinearReg))"
   ]
  },
  {
   "cell_type": "code",
   "execution_count": 31,
   "metadata": {},
   "outputs": [
    {
     "name": "stdout",
     "output_type": "stream",
     "text": [
      "MAE CatBoostRegressor: 8.066895367884797\n"
     ]
    }
   ],
   "source": [
    "print('MAE CatBoostRegressor:', mean_absolute_error(target_valid, predictions_cat))"
   ]
  },
  {
   "cell_type": "code",
   "execution_count": 32,
   "metadata": {},
   "outputs": [
    {
     "name": "stdout",
     "output_type": "stream",
     "text": [
      "MAE Random Forest Regressor: 5.950543167524298\n"
     ]
    }
   ],
   "source": [
    "print('MAE Random Forest Regressor:', mean_absolute_error(target_valid, predictions_RandomForest))"
   ]
  },
  {
   "cell_type": "code",
   "execution_count": 33,
   "metadata": {},
   "outputs": [
    {
     "name": "stdout",
     "output_type": "stream",
     "text": [
      "MAE Decision Tree Regressor: 7.12844910050853\n"
     ]
    }
   ],
   "source": [
    "print('MAE Decision Tree Regressor:', mean_absolute_error(target_valid, predictions_DecisionTree))"
   ]
  },
  {
   "cell_type": "code",
   "execution_count": 34,
   "metadata": {},
   "outputs": [
    {
     "name": "stdout",
     "output_type": "stream",
     "text": [
      "MAE LightGBM: 5.746394525153782\n"
     ]
    }
   ],
   "source": [
    "print('MAE LightGBM:', mean_absolute_error(target_valid, lgb_predictions))"
   ]
  },
  {
   "cell_type": "markdown",
   "metadata": {},
   "source": [
    "Лучший результат показала модель **LightGBM**. Посмотрим на важность признаков для этой модели"
   ]
  },
  {
   "cell_type": "code",
   "execution_count": 35,
   "metadata": {
    "scrolled": true
   },
   "outputs": [
    {
     "data": {
      "image/png": "[encoded data removed]",
      "text/plain": [
       "<Figure size 432x288 with 1 Axes>"
      ]
     },
     "metadata": {
      "needs_background": "light"
     },
     "output_type": "display_data"
    }
   ],
   "source": [
    "lgb.plot_importance(gbm)\n",
    "plt.show()"
   ]
  },
  {
   "cell_type": "markdown",
   "metadata": {},
   "source": [
    "Видим, что 3 самых важных фактора это начачльная температура, суммарная активная мощность и время, которое прошло с 1 нагрева до последнего."
   ]
  },
  {
   "cell_type": "markdown",
   "metadata": {},
   "source": [
    "Сравним показатели нашей моделей с Dummy моделью"
   ]
  },
  {
   "cell_type": "code",
   "execution_count": 36,
   "metadata": {},
   "outputs": [
    {
     "name": "stdout",
     "output_type": "stream",
     "text": [
      "MAE Dummy: 8.396983843492315\n"
     ]
    }
   ],
   "source": [
    "dummy_reg = DummyRegressor(strategy=\"mean\")\n",
    "\n",
    "dummy_reg.fit(features_train, target_train)\n",
    "predictions_Dummy = pd.DataFrame(dummy_reg.predict(features_valid), columns=['dummy_predict'])\n",
    "print('MAE Dummy:', mean_absolute_error(target_valid, predictions_Dummy))"
   ]
  },
  {
   "cell_type": "markdown",
   "metadata": {},
   "source": [
    "LightGBM очвидно лучше чем среднее значение."
   ]
  },
  {
   "cell_type": "markdown",
   "metadata": {},
   "source": [
    "Для успокоения души посмотрим как выглядят наши предсказания на гистограмме и сравним их с настоящими замерами."
   ]
  },
  {
   "cell_type": "code",
   "execution_count": 37,
   "metadata": {},
   "outputs": [
    {
     "data": {
      "text/plain": [
       "<matplotlib.axes._subplots.AxesSubplot at 0x7fafcd480790>"
      ]
     },
     "execution_count": 37,
     "metadata": {},
     "output_type": "execute_result"
    },
    {
     "data": {
      "image/png": "[encoded data removed]",
      "text/plain": [
       "<Figure size 432x288 with 1 Axes>"
      ]
     },
     "metadata": {
      "needs_background": "light"
     },
     "output_type": "display_data"
    },
    {
     "data": {
      "image/png": "[encoded data removed]",
      "text/plain": [
       "<Figure size 432x288 with 1 Axes>"
      ]
     },
     "metadata": {
      "needs_background": "light"
     },
     "output_type": "display_data"
    }
   ],
   "source": [
    "target_valid.plot.hist(bins=100, range=(1500, 1700), color = 'coral', alpha=0.7)\n",
    "lgb_predictions.plot.hist(bins=100, range=(1500, 1700), color = 'blue', alpha=0.7)"
   ]
  },
  {
   "cell_type": "markdown",
   "metadata": {},
   "source": [
    "Вывод: Выбираем модель LightGBM, которая показала наилучший результат метрики МАЕ = 5.74."
   ]
  },
  {
   "cell_type": "markdown",
   "metadata": {},
   "source": [
    "<div style=\"background: #cceeaa; padding: 5px; border: 1px solid green; border-radius: 5px;\">\n",
    "    <font color='green'> <b><u>КОММЕНТАРИЙ РЕВЬЮЕРА</u></b>\n",
    "</font>\n",
    "<font color='green'><br>\n",
    "Ксения, скажу, что уверенная работа, на мой взгляд)<br>\n",
    "Обработка данных, модельная работа, конечные результаты - многое удалось как надо<br> Очень здорово, что сразу ищешь новые фичи, думаешь над ними, анализируешь. Это тот самый подход, который нужен, чтобы искать ту саму модель для заказчика)<br> Осталось лишь несколько вопросов с моей стороны))<br>\n",
    "<font color='red'>    \n",
    "1) При моделировании существует проблематика мультиколлинеарности.(когда количественные факторы модели имеют сильную корреляцию друг с другом - больше 0.8).Есть ли она у нас?  Если есть - надо  решать по понятиям:) (удалить лишнее)<br><br>\n",
    "    \n",
    "2) Попробуй с помощью команды feature_importances_ выводить график важности факторов. Отличная вещь будет: высока яметрика + график рейтинаг факторов по силе влияния на целевой признак). Важнейшая часть любого модельного финала.\n",
    "Если видно, что часть факторов - слабозначимые для модели. Т.е. не значительно влияют на целевую переменную, то их смело можно убирать из модели. Ну и для бизнеса доносить: так мол и так - на эти факторы надо обращать внимание, а эти не влияют.<br>\n",
    "    \n",
    "3) ну и фактор кей - лучше убрать)<br>\n",
    "    \n",
    "<font color='green'>\n",
    "<font color='green'>\n",
    "Однозначно видно, что ты технически сделал хорошую работу.<br>\n",
    "Просто эти пунктs - важный момент в алгоритме моделирования. И хотелось, чтобы они у тебя остались в финале.<br>\n",
    "\n",
    "Спасибо)<br>\n",
    "БУДУ ЖДАТЬ КОММЕНТАРИЕВ."
   ]
  },
  {
   "cell_type": "markdown",
   "metadata": {},
   "source": [
    "<div class=\"alert alert-info\">\n",
    "Привет!\n",
    "    \n",
    "Фактор key убрала и MAE на лучше модели немного перевалило за 6. Так что добавила еще одну фичу (время прошедшее с первого замера до последнего), чтобы метрика была больше шести. В итоге получилось лучше.\n",
    "\n",
    "На мультиколлениальность посмотрела, но все фичи не влезают в график. излазила всю документацию, не нашла как сделать график более вместительным. Оставила там закомментированными остальные фичи, если хочешь, посмотри, что происходит если их все указать.\n",
    "\n",
    "Вывела важность факторов для лучшей из моделей\n",
    "</div>"
   ]
  },
  {
   "cell_type": "markdown",
   "metadata": {},
   "source": [
    "<div style=\"background: #cceeaa; padding: 5px; border: 1px solid green; border-radius: 5px;\">\n",
    "    <font color='green'> <b><u>КОММЕНТАРИЙ РЕВЬЮЕРА 2</u></b>\n",
    "</font>\n",
    "<font color='green'><br>\n",
    "Ксения, с доработками - всё в точку у тебя по важности.<br>\n",
    "А по мультиколлинеарности можжно вывести корреляции в таблице, не на картинке. Картинка - действительно только для случаев, когда факторов не более 15, мне кажется. Но изучать эту проблематику (мультиколлинеарность) обязательно надо. <br>\n",
    "Тут два аспекта можно рассматривать:<br>\n",
    "1) математический: когда два фактора имеют сильную корреляцию, то при матричных вычислениях внутри некоторых методов наступаю сложности. И самим методам внутри прихрдится их решать. Это может давать некторые сложности в расчётах. Плюс - скорость самих расчётов снижается.<br>\n",
    "2) бизнесово-логичесвкая: если два фактора очень сильно связаны друг с другом, то значит они имеют примерно одинаковое влияние на целевую переменную. А значит какой смысл оба их держать в модели. Напрмиер, каким-то образом попадутся факторы скорости, измеренные в км/ч и м/с - тут всем ясно (и бизнесу в том числе), что один фактор - излишний. При этом, как писал выше, есть понятие ложной корреляции. Если факторы имеют высокую корреляцию, НО логически НИКАК не связы друг с другом, то надо поисследолвать ещё, прежде чем удалять)<br>\n",
    "\n",
    " \n",
    "А в целом - добротная работа. <br>\n",
    "Также, всегда стараюсь на этом проекте сказать всем вот ещё что: цель заказчика - экономия энергоресурсов.<br>\n",
    "И в этом проекте искали как раз способ точно предсказывать температуру. И круто использовали для этого весь арсенал<br>\n",
    "А если рассудать с позиции такой: а что нужно сделать, чтобы снизить энергопотребление?<br>\n",
    "Судя по модели, самым важным фактором является первая температура. Это значит, что управляя ею, мы сможем управлять энергозатратами. Вывод понятен. Теперь надо разработать мероприятия для этого решения. И тут вопрос возникает скм собой: а это так точно? мы можем управлять первой температурой? В общем, наша модель - только начало работы над энергоэффективностью.<br>\n",
    "    \n",
    "Так же есть ещё одна идея, которую хотел предложить тебе на обсуждение.<br>\n",
    "Возможно, покажется интересным<br><br> \n",
    "\n",
    "Дело касается принципиально иного подхода к поиску решения для снижения энергопотребления на производстве<br>\n",
    "Смотри, Создание данной модели (таково было задание) двигалось по пути \"угадывания\" температуры<br>\n",
    "Но мы же знаем жизнь)) лёгкие колебания температур (как и нашего настроения, нашего веса.....)<br>\n",
    "есть всегда. Более того - будут вегда! И нам что, стараться угадывать их?<br>\n",
    "Не угонимся, \"пупок\" развяжется))))) <br>\n",
    "Предложу для подобных проектов подумать вот в какую сторону<br>\n",
    "    \n",
    "Итак, разброс в измерениях - есть, был и будет!! (т.к. этому благоприятствует разнообразие факторов самого проиозводства)<br>\n",
    "    Тогда задачу можно поставить так: <u>надо уменьшить разброс в измерениях</u>. В данном случае в температуре.<br>\n",
    "Один из подходов такой: Наверняка есть границы, в пределах которых колебания температур - дело нормальное.<br>\n",
    "А что, если фикировать случаи, когда температура выходит за эти границы?<br>\n",
    "Скажем, как \"1\". И тогда для таких моментов времени собирать инфо по производству: <br>\n",
    "а что был за материал (химия материала), что был за газ (химический состав газа), какая бригада работала, <br>\n",
    "что там было с электродами, ограничения только в фантазиях ну и в знаниях самого производства..... <br>\n",
    "И вот тут можем реально находить причины (через корреляции, проверки гипотез, разные модельки...), фиксировать эти причины. <br>\n",
    "Ну и разрабатывать энергосберегательные мероприятия.<br><br>\n",
    " \n",
    "<font color='green'>\n",
    "\n",
    "Спасибо за этот труд и за совместную работу на других проектах)<br>\n",
    "Искренне желаю покорить ещё не один аналитический Эверест)"
   ]
  },
  {
   "cell_type": "markdown",
   "metadata": {},
   "source": [
    "# Отчет"
   ]
  },
  {
   "cell_type": "markdown",
   "metadata": {},
   "source": [
    "*(Я не поняла, нужна чистая тетрадь или с комментраиями ревьюера, оставила с комментариями)*"
   ]
  },
  {
   "cell_type": "markdown",
   "metadata": {},
   "source": [
    "**Анализ данных**\n",
    "\n",
    "Были проанализированы предоставленные признаки. \n",
    "Для многих партий обнаружены пропуски в целевом признаке (результат последнего измерения температуры).\n",
    "Изучен разброс данных по гистограммам и диаграмме размаха для показателей:\n",
    "* Температура (первый и последний замер)\n",
    "* Объем газа\n",
    "* Активная мощность\n",
    "* Реактивная мощность\n",
    "\n",
    "Во всех случаях распределение выглядит как нормальное. Выбросы есть, но больше похожи на длинные хвосты нормального распределения а не на ошибки в данных.\n",
    "\n",
    "**Подготовка данных**\n",
    "* Выбросили серединные замеры температуры (со второй по предпоследнюю) так как использовать их мы не можем по услови задачи;\n",
    "* Активные и реактивные мощности всех этапов нагрева сложили в суммарную активную и суммарную реактивную можность;\n",
    "* Для каждой партии подсчитали количество нагревов;\n",
    "* Для каждой партии подсчитали временной интервал между первым и последним измерением температуры;\n",
    "* В данных о примесях (как сыпучих так и провологки) заменили Nan на нули, так как Nan означает отсутствие добавления примесей;\n",
    "* Изучили возможные корреляции в основных признаках, чтобы удалить признаки со слишком высокой корреляцией (таких не обнаружилось);\n",
    "* Масштабировали признаки.\n",
    "\n",
    "Финальный датафрейм для обучения (features) по итогу содержит:\n",
    "* start_temp - результат первого замера температуры;\n",
    "* active_power_sum - суммарная активная мощность для партии;\n",
    "* reactive_power_sum - суммарная реактивная мощность для партии;\n",
    "* number_heatings - количество нагревов партии;\n",
    "* gas - объем газа;\n",
    "* time - разница во времени между первым и последним замером;\n",
    "* Bulk (1-15) - объем тех или иных сыпучих примесей в партии;\n",
    "* Wire (1-9) - объем проволочных примесей в партии.\n",
    "\n",
    "Целевой признак (target) содержит результат последнего замера температуры партии\n",
    "\n",
    "**Выбор модели и результаты обучения**\n",
    "\n",
    "Для задачи регрессии обучили и сравнили результаты 5 моделей регрессии.\n",
    "\n",
    "|Model         | MAE           |\n",
    "| ------------- |:-------------:|\n",
    "| Linear Regression      | 6.342183908965219 |\n",
    "| CatBoost Regressor      | 8.066895367884797 |\n",
    "| Random Forest Regressor | 5.950543167524298 |\n",
    "| Decision Tree Regressor | 7.12844910050853 |\n",
    "| LightGBM                | 5.746394525153782 |\n",
    "\n",
    "Наилучший результат показала модель **LightGBM - 5.74**\n",
    "\n",
    "**Выводы**\n",
    "По наилучшей модели посмотрели самые важные признаки. Топ 5 фичей:\n",
    "1. start_temp\n",
    "2. active_power_sum\n",
    "3. time\n",
    "4. Wire 1\n",
    "5. reactive_power_sum\n",
    "\n",
    "Все пункты плана были выполнены, дополнительно из существующих признаков были сгенерированы новые (количество нагревов, разница во времени между первым и последним замером). \n",
    "\n",
    "Основные трудности были связаны с пониманием процесса и, как следствие, с обработкой данных. Сложность с несколькими наблюдениями в рамках одной партии была решена обобщением признаков разных замеров (суммирование мощностей, подсчет количества итераций нагрева). Так победили)"
   ]
  },
  {
   "cell_type": "code",
   "execution_count": null,
   "metadata": {},
   "outputs": [],
   "source": []
  }
 ],
 "metadata": {
  "kernelspec": {
   "display_name": "Python 3",
   "language": "python",
   "name": "python3"
  },
  "language_info": {
   "codemirror_mode": {
    "name": "ipython",
    "version": 3
   },
   "file_extension": ".py",
   "mimetype": "text/x-python",
   "name": "python",
   "nbconvert_exporter": "python",
   "pygments_lexer": "ipython3",
   "version": "3.7.8"
  },
  "toc": {
   "base_numbering": 1,
   "nav_menu": {},
   "number_sections": true,
   "sideBar": true,
   "skip_h1_title": true,
   "title_cell": "Table of Contents",
   "title_sidebar": "Contents",
   "toc_cell": false,
   "toc_position": {},
   "toc_section_display": true,
   "toc_window_display": false
  }
 },
 "nbformat": 4,
 "nbformat_minor": 2
}
